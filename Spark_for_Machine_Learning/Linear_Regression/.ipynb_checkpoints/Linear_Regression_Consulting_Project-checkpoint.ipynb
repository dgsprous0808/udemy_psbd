{
 "cells": [
  {
   "cell_type": "markdown",
   "metadata": {},
   "source": [
    "# Linear Regression Consulting Project"
   ]
  },
  {
   "cell_type": "markdown",
   "metadata": {
    "collapsed": true
   },
   "source": [
    "Congratulations! You've been contracted by Hyundai Heavy Industries to help them build a predictive model for some ships. [Hyundai Heavy Industries](http://www.hyundai.eu/en) is one of the world's largest ship manufacturing companies and builds cruise liners.\n",
    "\n",
    "You've been flown to their headquarters in Ulsan, South Korea to help them give accurate estimates of how many crew members a ship will require.\n",
    "\n",
    "They are currently building new ships for some customers and want you to create a model and use it to predict how many crew members the ships will need.\n",
    "\n",
    "Here is what the data looks like so far:\n",
    "\n",
    "    Description: Measurements of ship size, capacity, crew, and age for 158 cruise\n",
    "    ships.\n",
    "\n",
    "\n",
    "    Variables/Columns\n",
    "    Ship Name     1-20\n",
    "    Cruise Line   21-40\n",
    "    Age (as of 2013)   46-48\n",
    "    Tonnage (1000s of tons)   50-56\n",
    "    passengers (100s)   58-64\n",
    "    Length (100s of feet)  66-72\n",
    "    Cabins  (100s)   74-80\n",
    "    Passenger Density   82-88\n",
    "    Crew  (100s)   90-96\n",
    "    \n",
    "It is saved in a csv file for you called \"cruise_ship_info.csv\". Your job is to create a regression model that will help predict how many crew members will be needed for future ships. The client also mentioned that they have found that particular cruise lines will differ in acceptable crew counts, so it is most likely an important feature to include in your analysis! \n",
    "\n",
    "Once you've created the model and tested it for a quick check on how well you can expect it to perform, make sure you take a look at why it performs so well!"
   ]
  },
  {
   "cell_type": "markdown",
   "metadata": {},
   "source": [
    "Setup the spark environ"
   ]
  },
  {
   "cell_type": "code",
   "execution_count": 1,
   "metadata": {},
   "outputs": [],
   "source": [
    "import findspark\n",
    "findspark.init()\n",
    "from pyspark.sql import SparkSession\n"
   ]
  },
  {
   "cell_type": "markdown",
   "metadata": {},
   "source": [
    "pull in needed packages"
   ]
  },
  {
   "cell_type": "code",
   "execution_count": 2,
   "metadata": {},
   "outputs": [],
   "source": [
    "from pyspark.sql.functions import when, col\n",
    "\n",
    "# Import VectorAssembler and Vectors\n",
    "from pyspark.ml.linalg import Vectors\n",
    "from pyspark.ml.feature import VectorAssembler\n",
    "from pyspark.sql.functions import when, col\n",
    "from pyspark.ml.regression import LinearRegression\n",
    "\n"
   ]
  },
  {
   "cell_type": "markdown",
   "metadata": {},
   "source": [
    "create the spark session"
   ]
  },
  {
   "cell_type": "code",
   "execution_count": 3,
   "metadata": {},
   "outputs": [],
   "source": [
    "spark = SparkSession.builder.appName(\"LRCruise\").getOrCreate()"
   ]
  },
  {
   "cell_type": "markdown",
   "metadata": {},
   "source": [
    "Two local functions for hot encoding and automated training/test splits"
   ]
  },
  {
   "cell_type": "code",
   "execution_count": 24,
   "metadata": {},
   "outputs": [],
   "source": [
    "def encode_cruiseline(df,cruiseline):\n",
    "    # withColumn('doubleage',df['age']*2).show()\n",
    "    df = df.withColumn(cruiseline, when(col(\"Cruise_line\") == cruiseline,1).otherwise(0) )\n",
    "    return df\n",
    "\n",
    "\n",
    "def progressive_challenges(rshp_df,train_sizes):\n",
    "    lr = LinearRegression(labelCol='crew')\n",
    "    rmse = []\n",
    "    rms = []\n",
    "    r2 = []\n",
    "    for train_size in train_sizes:\n",
    "        test_size = 1.00 - train_size\n",
    "        train_df,test_df = rshp_df.randomSplit([train_size,test_size])\n",
    "        lrModel = lr.fit(train_df,)\n",
    "        results = lrModel.evaluate(test_df)\n",
    "        rmse.append(results.rootMeanSquaredError)\n",
    "        rms.append(results.meanSquaredError)\n",
    "        r2.append(results.r2)\n",
    "    return rmse,rms, r2"
   ]
  },
  {
   "cell_type": "code",
   "execution_count": 5,
   "metadata": {},
   "outputs": [
    {
     "name": "stdout",
     "output_type": "stream",
     "text": [
      "root\n",
      " |-- Ship_name: string (nullable = true)\n",
      " |-- Cruise_line: string (nullable = true)\n",
      " |-- Age: integer (nullable = true)\n",
      " |-- Tonnage: double (nullable = true)\n",
      " |-- passengers: double (nullable = true)\n",
      " |-- length: double (nullable = true)\n",
      " |-- cabins: double (nullable = true)\n",
      " |-- passenger_density: double (nullable = true)\n",
      " |-- crew: double (nullable = true)\n",
      "\n"
     ]
    }
   ],
   "source": [
    "df = spark.read.csv(\"cruise_ship_info.csv\",inferSchema=True,header=True)\n",
    "df.printSchema()"
   ]
  },
  {
   "cell_type": "code",
   "execution_count": 6,
   "metadata": {},
   "outputs": [
    {
     "name": "stdout",
     "output_type": "stream",
     "text": [
      "+-----------------+\n",
      "|      Cruise_line|\n",
      "+-----------------+\n",
      "|            Costa|\n",
      "|              P&O|\n",
      "|           Cunard|\n",
      "|Regent_Seven_Seas|\n",
      "|              MSC|\n",
      "|         Carnival|\n",
      "|          Crystal|\n",
      "|           Orient|\n",
      "|         Princess|\n",
      "|        Silversea|\n",
      "|         Seabourn|\n",
      "| Holland_American|\n",
      "|         Windstar|\n",
      "|           Disney|\n",
      "|        Norwegian|\n",
      "|          Oceania|\n",
      "|          Azamara|\n",
      "|        Celebrity|\n",
      "|             Star|\n",
      "|  Royal_Caribbean|\n",
      "+-----------------+\n",
      "\n"
     ]
    }
   ],
   "source": [
    "df.select(\"Cruise_line\").distinct().show()"
   ]
  },
  {
   "cell_type": "code",
   "execution_count": 7,
   "metadata": {},
   "outputs": [],
   "source": [
    "# Hot encode the cruise line\n",
    "for crln in [\"Costa\",\"P&O\",\"Cunard\",\"Regent_Seven_Seas\",\"MSC\",\"Carnival\",\"Crystal\",\n",
    "             \"Orient\",\"Princess\",\"Silversea\",\"Seabourn\",\"Holland_American\",\"Windstar\",\n",
    "             \"Disney\",\"Norwegian\",\"Oceania\",\"Azamara\",\"Celebrity\",\"Star\",\"Royal_Caribbean\"]:\n",
    "    df = encode_cruiseline(df,crln)"
   ]
  },
  {
   "cell_type": "code",
   "execution_count": 8,
   "metadata": {},
   "outputs": [
    {
     "name": "stdout",
     "output_type": "stream",
     "text": [
      "root\n",
      " |-- Ship_name: string (nullable = true)\n",
      " |-- Cruise_line: string (nullable = true)\n",
      " |-- Age: integer (nullable = true)\n",
      " |-- Tonnage: double (nullable = true)\n",
      " |-- passengers: double (nullable = true)\n",
      " |-- length: double (nullable = true)\n",
      " |-- cabins: double (nullable = true)\n",
      " |-- passenger_density: double (nullable = true)\n",
      " |-- crew: double (nullable = true)\n",
      " |-- Costa: integer (nullable = false)\n",
      " |-- P&O: integer (nullable = false)\n",
      " |-- Cunard: integer (nullable = false)\n",
      " |-- Regent_Seven_Seas: integer (nullable = false)\n",
      " |-- MSC: integer (nullable = false)\n",
      " |-- Carnival: integer (nullable = false)\n",
      " |-- Crystal: integer (nullable = false)\n",
      " |-- Orient: integer (nullable = false)\n",
      " |-- Princess: integer (nullable = false)\n",
      " |-- Silversea: integer (nullable = false)\n",
      " |-- Seabourn: integer (nullable = false)\n",
      " |-- Holland_American: integer (nullable = false)\n",
      " |-- Windstar: integer (nullable = false)\n",
      " |-- Disney: integer (nullable = false)\n",
      " |-- Norwegian: integer (nullable = false)\n",
      " |-- Oceania: integer (nullable = false)\n",
      " |-- Azamara: integer (nullable = false)\n",
      " |-- Celebrity: integer (nullable = false)\n",
      " |-- Star: integer (nullable = false)\n",
      " |-- Royal_Caribbean: integer (nullable = false)\n",
      "\n"
     ]
    }
   ],
   "source": [
    "df.printSchema()"
   ]
  },
  {
   "cell_type": "code",
   "execution_count": 9,
   "metadata": {},
   "outputs": [],
   "source": [
    "# Create the feature vector\n",
    "\n",
    "fields = [\"Age\",\"Tonnage\",\"passengers\",\"length\",\"cabins\",\"passenger_density\",\"Costa\",\"P&O\",\"Cunard\",\"Regent_Seven_Seas\",\"MSC\",\"Carnival\",\"Crystal\",\n",
    "             \"Orient\",\"Princess\",\"Silversea\",\"Seabourn\",\"Holland_American\",\"Windstar\",\n",
    "             \"Disney\",\"Norwegian\",\"Oceania\",\"Azamara\",\"Celebrity\",\"Star\",\"Royal_Caribbean\"]\n",
    "\n",
    "assembler = VectorAssembler(\n",
    "    inputCols=fields,\n",
    "    outputCol=\"features\")\n",
    "\n",
    "rshp_df = assembler.transform(df)"
   ]
  },
  {
   "cell_type": "code",
   "execution_count": 10,
   "metadata": {},
   "outputs": [
    {
     "name": "stdout",
     "output_type": "stream",
     "text": [
      "root\n",
      " |-- Ship_name: string (nullable = true)\n",
      " |-- Cruise_line: string (nullable = true)\n",
      " |-- Age: integer (nullable = true)\n",
      " |-- Tonnage: double (nullable = true)\n",
      " |-- passengers: double (nullable = true)\n",
      " |-- length: double (nullable = true)\n",
      " |-- cabins: double (nullable = true)\n",
      " |-- passenger_density: double (nullable = true)\n",
      " |-- crew: double (nullable = true)\n",
      " |-- Costa: integer (nullable = false)\n",
      " |-- P&O: integer (nullable = false)\n",
      " |-- Cunard: integer (nullable = false)\n",
      " |-- Regent_Seven_Seas: integer (nullable = false)\n",
      " |-- MSC: integer (nullable = false)\n",
      " |-- Carnival: integer (nullable = false)\n",
      " |-- Crystal: integer (nullable = false)\n",
      " |-- Orient: integer (nullable = false)\n",
      " |-- Princess: integer (nullable = false)\n",
      " |-- Silversea: integer (nullable = false)\n",
      " |-- Seabourn: integer (nullable = false)\n",
      " |-- Holland_American: integer (nullable = false)\n",
      " |-- Windstar: integer (nullable = false)\n",
      " |-- Disney: integer (nullable = false)\n",
      " |-- Norwegian: integer (nullable = false)\n",
      " |-- Oceania: integer (nullable = false)\n",
      " |-- Azamara: integer (nullable = false)\n",
      " |-- Celebrity: integer (nullable = false)\n",
      " |-- Star: integer (nullable = false)\n",
      " |-- Royal_Caribbean: integer (nullable = false)\n",
      " |-- features: vector (nullable = true)\n",
      "\n"
     ]
    }
   ],
   "source": [
    "rshp_df.printSchema()"
   ]
  },
  {
   "cell_type": "code",
   "execution_count": 11,
   "metadata": {},
   "outputs": [],
   "source": [
    "lr = LinearRegression(labelCol='crew')\n",
    "lrModel = lr.fit(rshp_df,)"
   ]
  },
  {
   "cell_type": "code",
   "execution_count": 12,
   "metadata": {},
   "outputs": [
    {
     "name": "stdout",
     "output_type": "stream",
     "text": [
      "Coefficients: [0.00727114555098389,0.014577845490114599,-0.09791674271221261,0.48507139216942013,0.7248614404544313,0.0007399768126846898,-0.3496383874645716,-0.015606001134954655,0.08605663107524626,0.6450614886447045,-0.05459002766437478,0.2761014942290554,0.24801265864105193,-0.3563577293486538,0.01738310614488004,0.3175009892704016,0.4695359123716959,-0.4814531633982071,-0.185340944919023,0.7017943718835417,0.3743422682973946,0.6409611127666073,0.16831640353715727,0.5747347281459246,1.3773007777549091,-1.1325478935805386] Intercept: -1.909903171781209\n"
     ]
    }
   ],
   "source": [
    "print(\"Coefficients: {} Intercept: {}\".format(lrModel.coefficients,lrModel.intercept))"
   ]
  },
  {
   "cell_type": "code",
   "execution_count": 13,
   "metadata": {},
   "outputs": [],
   "source": [
    "results = lrModel.evaluate(rshp_df)"
   ]
  },
  {
   "cell_type": "code",
   "execution_count": 14,
   "metadata": {},
   "outputs": [
    {
     "name": "stdout",
     "output_type": "stream",
     "text": [
      "+--------------------+\n",
      "|           residuals|\n",
      "+--------------------+\n",
      "|-6.13293575923989...|\n",
      "|-6.13293575923989...|\n",
      "|-6.50660306755312...|\n",
      "|   6.526259657202212|\n",
      "| -1.3109977854063501|\n",
      "| 0.09096788169151893|\n",
      "| 0.14186590054840487|\n",
      "| 0.07316057564869283|\n",
      "|  0.1127813183444708|\n",
      "|-0.30771529272508147|\n",
      "| -0.9495191549988728|\n",
      "|-0.03181337747404...|\n",
      "| 0.12005246389545476|\n",
      "| 0.12732360944643695|\n",
      "| -0.7193516858143063|\n",
      "| -0.9349768638969049|\n",
      "|  0.2578728189234081|\n",
      "| 0.14186590054840487|\n",
      "| -1.4888020581839747|\n",
      "| 0.10551017279348684|\n",
      "+--------------------+\n",
      "only showing top 20 rows\n",
      "\n"
     ]
    }
   ],
   "source": [
    "results.residuals.show()"
   ]
  },
  {
   "cell_type": "code",
   "execution_count": 15,
   "metadata": {},
   "outputs": [
    {
     "name": "stdout",
     "output_type": "stream",
     "text": [
      "RMSE: 0.8007646556078504\n",
      "MSE: 0.6412240336707592\n"
     ]
    }
   ],
   "source": [
    "print(\"RMSE: {}\".format(results.rootMeanSquaredError))\n",
    "print(\"MSE: {}\".format(results.meanSquaredError))"
   ]
  },
  {
   "cell_type": "code",
   "execution_count": 16,
   "metadata": {},
   "outputs": [
    {
     "name": "stdout",
     "output_type": "stream",
     "text": [
      "RMSE: 0.6841987368755853\n",
      "MSE: 0.46812791154214634\n"
     ]
    }
   ],
   "source": [
    "train_df,test_df = rshp_df.randomSplit([0.5,0.5])\n",
    "\n",
    "lrModel = lr.fit(train_df,)\n",
    "results = lrModel.evaluate(test_df)\n",
    "print(\"RMSE: {}\".format(results.rootMeanSquaredError))\n",
    "print(\"MSE: {}\".format(results.meanSquaredError))"
   ]
  },
  {
   "cell_type": "code",
   "execution_count": 26,
   "metadata": {},
   "outputs": [
    {
     "name": "stdout",
     "output_type": "stream",
     "text": [
      "[2.4770411063556703, 2.810334128560862, 2.6600835547567843, 1.1768935592143286, 1.5985963811009287, 1.0647792507208917, 1.5227618602873052, 1.0239021948016094, 1.641040856123727, 0.9452564775182413, 1.1225940300589132, 1.2758153210334473, 1.133726768796237, 1.0196293315942608, 0.8622852673188082, 1.2830930308302049, 1.2231828016896735, 0.6355205993310008, 1.1083550683482462, 1.3421086371559758, 0.7291648286887058, 1.2494552582851033, 0.5358424143424256, 0.39232004386853714, 0.7518072928990364]\n",
      "[6.135732642575723, 7.89797791415394, 7.076044518287491, 1.3850784497201705, 2.5555103896689855, 1.1337548527657435, 2.3188036831456547, 1.0483757045195528, 2.693015091467295, 0.8935098082901933, 1.260217356323912, 1.627704733383678, 1.285336386285156, 1.039643973847359, 0.7435358822350684, 1.6463277257650408, 1.496176166349399, 0.4038864321740344, 1.2284509575332452, 1.801255593928671, 0.5316813473966296, 1.5611384424562944, 0.28712709300831973, 0.15391501682101089, 0.5652142056561775]\n"
     ]
    }
   ],
   "source": [
    "\n",
    "train_sizes = [0.1,0.1,0.1,0.1,0.1,\n",
    "               0.3,0.3,0.3,0.3,0.3,\n",
    "               0.5,0.5,0.5,0.5,0.5,\n",
    "               0.7,0.7,0.7,0.7,0.7,\n",
    "               0.9,0.9,0.9,0.9,0.9]\n",
    "rmse, rms, r2 = progressive_challenges(rshp_df,train_sizes)\n",
    "\n",
    "print(rmse)\n",
    "print(rms)"
   ]
  },
  {
   "cell_type": "code",
   "execution_count": 27,
   "metadata": {},
   "outputs": [
    {
     "name": "stdout",
     "output_type": "stream",
     "text": [
      "[0.4968306011011364, 0.3739752955805332, 0.4464963139576389, 0.8873558117386877, 0.7928509823664744, 0.8960291435148183, 0.8289705732690047, 0.912389730593018, 0.7691480257753153, 0.9237095093957393, 0.88828295101601, 0.865195857388076, 0.8682060047060998, 0.9187412052734178, 0.9293670944381128, 0.8875704494515921, 0.8739836225946033, 0.964284474461325, 0.9052659774535882, 0.8619839011324354, 0.9439889966992521, 0.8926668496153778, 0.9651834202426526, 0.9887305721593646, 0.9627474808692761]\n"
     ]
    }
   ],
   "source": [
    "print(r2)"
   ]
  },
  {
   "cell_type": "code",
   "execution_count": null,
   "metadata": {},
   "outputs": [],
   "source": []
  }
 ],
 "metadata": {
  "anaconda-cloud": {},
  "kernelspec": {
   "display_name": "Python 3",
   "language": "python",
   "name": "python3"
  },
  "language_info": {
   "codemirror_mode": {
    "name": "ipython",
    "version": 3
   },
   "file_extension": ".py",
   "mimetype": "text/x-python",
   "name": "python",
   "nbconvert_exporter": "python",
   "pygments_lexer": "ipython3",
   "version": "3.7.4"
  }
 },
 "nbformat": 4,
 "nbformat_minor": 1
}
