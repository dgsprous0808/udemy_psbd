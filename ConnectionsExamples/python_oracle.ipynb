{
 "cells": [
  {
   "cell_type": "markdown",
   "metadata": {},
   "source": [
    "# Example connections between Python and PySpark to Oracle and S3.  "
   ]
  },
  {
   "cell_type": "markdown",
   "metadata": {},
   "source": [
    "## Python only connections"
   ]
  },
  {
   "cell_type": "markdown",
   "metadata": {},
   "source": [
    "### Oracle to Python \n",
    "requires the Oracle client to be installed (/usr/local/lib) and the cx_Oracle package.\n",
    "\n",
    "VALIDATED:  "
   ]
  },
  {
   "cell_type": "code",
   "execution_count": null,
   "metadata": {},
   "outputs": [],
   "source": [
    "import cx_Oracle\n",
    "import pandas as pd"
   ]
  },
  {
   "cell_type": "code",
   "execution_count": null,
   "metadata": {},
   "outputs": [],
   "source": [
    "# Establish the oracle connection\n",
    "dsn_tns = cx_Oracle.makedsn('brsoda1-scan.corp.espn.pvt', 8685, service_name='EDWTEST')\n",
    "conn = cx_Oracle.connect(user=r'load_master', password='****', dsn=dsn_tns)\n",
    "c = conn.cursor()\n",
    "\n",
    "# \n",
    "sql_query = \"select owner,table_name,count(*) from sys.all_tab_columns group by owner,table_name\"\n",
    "c.execute(sql_query)\n",
    "results = c.fetchall()\n",
    "tmp0_df = pd.DataFrame(data=results,columns=[\"owner\",\"table_name\",\"num_columns\"])\n",
    "\n",
    "# The row counts are available in all_tables\n",
    "sql_query = \"select owner,table_name,num_rows,avg_row_len from all_tables\"\n",
    "c.execute(sql_query)\n",
    "results = c.fetchall()\n",
    "tmp1_df = pd.DataFrame(data=results,columns=[\"owner\",\"table_name\", \"num_rows\",\"avg_row_len\"])\n",
    "\n",
    "df = pd.merge(left=tmp0_df,right=tmp1_df, left_on=[\"owner\",\"table_name\"], right_on=[\"owner\",\"table_name\"])\n",
    "fields = [\"owner\",\"table_name\",\"num_columns\",\"num_rows\",\"avg_row_len\"]\n",
    "df = df.loc[:,fields]\n",
    "\n",
    "# Good citizens close their Oracle connections\n",
    "conn.close()"
   ]
  },
  {
   "cell_type": "code",
   "execution_count": null,
   "metadata": {},
   "outputs": [],
   "source": [
    "# Drop system schema tables.  \n",
    "df = df.loc[( (sizes_df.owner!=\"SYS\") \n",
    "                   & (sizes_df.owner!=\"SYSTEM\")\n",
    "                  & (sizes_df.owner!=\"XDB\")\n",
    "                  & (sizes_df.owner!=\"MDSYS\")),]\n",
    "\n",
    "# Tables with no rows are in all_tables but num_rows is null (-->0)\n",
    "df.loc[:,'num_rows'].fillna(0, inplace=True)\n",
    "df.loc[:,'avg_row_len'].fillna(0, inplace=True)\n",
    "\n",
    "# enforce integer values for num_row (but not avg_row_len)\n",
    "df.loc[:,'num_rows']= df.loc[:,'num_rows'].astype(int)\n",
    "\n",
    "# pandas is fussy about direct assignments, two steps\n",
    "values = df.num_rows * df.avg_row_len / (1000000.00)\n",
    "df.loc[:,\"Sizes_MB\"] = values"
   ]
  },
  {
   "cell_type": "code",
   "execution_count": null,
   "metadata": {},
   "outputs": [],
   "source": [
    "df.head(10)"
   ]
  }
 ],
 "metadata": {
  "anaconda-cloud": {},
  "kernelspec": {
   "display_name": "Python 3",
   "language": "python",
   "name": "python3"
  },
  "language_info": {
   "codemirror_mode": {
    "name": "ipython",
    "version": 3
   },
   "file_extension": ".py",
   "mimetype": "text/x-python",
   "name": "python",
   "nbconvert_exporter": "python",
   "pygments_lexer": "ipython3",
   "version": "3.7.4"
  }
 },
 "nbformat": 4,
 "nbformat_minor": 1
}
