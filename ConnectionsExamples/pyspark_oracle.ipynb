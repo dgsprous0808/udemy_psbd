{
 "cells": [
  {
   "cell_type": "markdown",
   "metadata": {},
   "source": [
    "# Example connections between Python and PySpark to Oracle and S3.  "
   ]
  },
  {
   "cell_type": "markdown",
   "metadata": {},
   "source": [
    "## Pyspark connections"
   ]
  },
  {
   "cell_type": "markdown",
   "metadata": {},
   "source": [
    "### Pyspark to Oracle\n",
    "\n",
    "NB:  need to download the ojbc7.jar file.  \n",
    "\n",
    "UNVALIDATED.  Returns a df with schema but data is not readable.  "
   ]
  },
  {
   "cell_type": "code",
   "execution_count": 2,
   "metadata": {},
   "outputs": [],
   "source": [
    "import findspark\n",
    "findspark.init()\n",
    "from pyspark.sql import SparkSession\n",
    "\n",
    "spark = SparkSession.builder.appName(\"Operations\").config(\"spark.jars\", \"/usr/local/lib/ojdbc7.jar\").getOrCreate()\n",
    "spark._jsc.hadoopConfiguration().set(\"fs.s3a.access.key\", \"mykey\")\n",
    "\n",
    "edwtest_password = \"****\"\n",
    "url = \"jdbc:oracle:thin:load_master/\"+edwtest_password+\"@//brsoda1-scan.corp.espn.pvt:8685/edwtest\"\n",
    "df = spark.read \\\n",
    ".format(\"jdbc\") \\\n",
    ".option(\"url\",url) \\\n",
    ".option(\"dbtable\",\"LANDING_SDRMX.DATABASECHANGELOG\") \\\n",
    ".option(\"driver\",\"oracle.jdbc.driver.OracleDriver\") \\\n",
    ".load()\n"
   ]
  },
  {
   "cell_type": "code",
   "execution_count": 3,
   "metadata": {},
   "outputs": [
    {
     "data": {
      "text/plain": [
       "pyspark.sql.dataframe.DataFrame"
      ]
     },
     "execution_count": 3,
     "metadata": {},
     "output_type": "execute_result"
    }
   ],
   "source": [
    "type(df)"
   ]
  },
  {
   "cell_type": "code",
   "execution_count": 4,
   "metadata": {},
   "outputs": [
    {
     "name": "stdout",
     "output_type": "stream",
     "text": [
      "root\n",
      " |-- ID: string (nullable = true)\n",
      " |-- AUTHOR: string (nullable = true)\n",
      " |-- FILENAME: string (nullable = true)\n",
      " |-- DATEEXECUTED: timestamp (nullable = true)\n",
      " |-- ORDEREXECUTED: decimal(38,0) (nullable = true)\n",
      " |-- EXECTYPE: string (nullable = true)\n",
      " |-- MD5SUM: string (nullable = true)\n",
      " |-- DESCRIPTION: string (nullable = true)\n",
      " |-- COMMENTS: string (nullable = true)\n",
      " |-- TAG: string (nullable = true)\n",
      " |-- LIQUIBASE: string (nullable = true)\n",
      "\n"
     ]
    }
   ],
   "source": [
    "df.printSchema()"
   ]
  },
  {
   "cell_type": "markdown",
   "metadata": {},
   "source": [
    "### PySpark to S3\n",
    "\n",
    "UNVALIDATED Need AWS particulars"
   ]
  },
  {
   "cell_type": "code",
   "execution_count": null,
   "metadata": {},
   "outputs": [],
   "source": [
    "spark = SparkSession.builder \\\n",
    "            .appName(\"my_app\") \\\n",
    "            .config('spark.sql.codegen.wholeStage', False) \\\n",
    "            .getOrCreate()\n",
    "\n",
    "spark._jsc.hadoopConfiguration().set(\"fs.s3a.access.key\", \"mykey\")\n",
    "spark._jsc.hadoopConfiguration().set(\"fs.s3a.secret.key\", \"mysecret\")\n",
    "spark._jsc.hadoopConfiguration().set(\"fs.s3a.impl\",\"org.apache.hadoop.fs.s3a.S3AFileSystem\")\n",
    "spark._jsc.hadoopConfiguration().set(\"com.amazonaws.services.s3.enableV4\", \"true\")\n",
    "spark._jsc.hadoopConfiguration().set(\"fs.s3a.aws.credentials.provider\",\"org.apache.hadoop.fs.s3a.BasicAWSCredentialsProvider\")\n",
    "spark._jsc.hadoopConfiguration().set(\"fs.s3a.endpoint\", \"eu-west-3.amazonaws.com\")"
   ]
  },
  {
   "cell_type": "markdown",
   "metadata": {},
   "source": [
    "### PySpark to Snowflake\n",
    "UNVALIDATED Need Snowflake particulars"
   ]
  },
  {
   "cell_type": "code",
   "execution_count": null,
   "metadata": {},
   "outputs": [],
   "source": [
    "import findspark\n",
    "findspark.init()\n",
    "from pyspark.sql import SparkSession\n",
    "\n",
    "from pyspark import SparkFiles\n",
    "from pyspark.sql.functions import udf, col, lit\n",
    "from pyspark.sql.types import StringType, DoubleType\n",
    "\n",
    "spark = SparkSession.builder \\\n",
    "        .appName(\"save mdm updates to bifrost mysql\") \\\n",
    "        .config('spark.driver.memory', '5G') \\\n",
    "        .config(\"spark.sql.autoBroadcastJoinThreshold\",\"-1\") \\\n",
    "        .config(\"spark.sql.broadcastTimeout\",\"300\") \\\n",
    "        .getOrCreate()\n",
    "    \n",
    "spark.builder.config('spark.executor.memory', '16G')\n",
    "spark.builder.config(\"spark.executor.cores\", \"4\")\n",
    "\n",
    "import os\n",
    "\n",
    "os.environ['PYSPARK_SUBMIT_ARGS'] = '--packages net.snowflake:spark-snowflake_2.11:2.4.13-spark_2.4 pyspark-shell'\n",
    "\n",
    "\n",
    "import sys\n",
    "from datetime import datetime\n",
    "import time\n",
    "import hashlib\n",
    "\n",
    "import logging\n"
   ]
  },
  {
   "cell_type": "code",
   "execution_count": null,
   "metadata": {},
   "outputs": [],
   "source": [
    "# snowflake connection params\n",
    "env = \"dev\" # user input\n",
    "sf_url = \"\" # user input\n",
    "sf_user = \"\" # user input\n",
    "sf_password = \"\" # user input\n",
    "sf_role = \"\" # user input\n",
    "    \n",
    "table_schema_name = 'raw_stage'\n",
    "sf_table_name = \"{}.gam_api_data_impression\".format(table_schema_name)\n",
    "    \n",
    "sfOptions = {\n",
    "        \"sfURL\" : sf_url,\n",
    "        \"sfUser\" : sf_user,\n",
    "        \"sfPassword\" : sf_password,\n",
    "        \"sfRole\" : sf_role,\n",
    "        \"sfDatabase\" : \"dvdm_db_{}\".format(env),\n",
    "        \"sfSchema\" : table_schema_name,\n",
    "        \"sfWarehouse\" : \"dvdm_wh_{}_xl\".format(env),\n",
    "}\n",
    "    \n",
    "sf_sql_stmt = \"select * from {} limit 10\".format(sf_table_name)\n",
    "sql_results = spark.read.format(SNOWFLAKE_SOURCE_NAME) \\\n",
    "            .options(**sfOptions) \\\n",
    "            .option(\"query\", sql_stmt) \\\n",
    "            .load()"
   ]
  }
 ],
 "metadata": {
  "anaconda-cloud": {},
  "kernelspec": {
   "display_name": "Python 3",
   "language": "python",
   "name": "python3"
  },
  "language_info": {
   "codemirror_mode": {
    "name": "ipython",
    "version": 3
   },
   "file_extension": ".py",
   "mimetype": "text/x-python",
   "name": "python",
   "nbconvert_exporter": "python",
   "pygments_lexer": "ipython3",
   "version": "3.7.4"
  }
 },
 "nbformat": 4,
 "nbformat_minor": 1
}
